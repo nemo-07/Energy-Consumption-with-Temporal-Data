{
 "cells": [
  {
   "cell_type": "markdown",
   "metadata": {
    "id": "YwD6pYEvZMwO"
   },
   "source": [
    "# Imports"
   ]
  },
  {
   "cell_type": "code",
   "execution_count": 102,
   "metadata": {
    "id": "4b3tQ9JOa1RR"
   },
   "outputs": [],
   "source": [
    "import os\n",
    "import time\n",
    "\n",
    "import numpy as np\n",
    "import pandas as pd\n",
    "import matplotlib.pyplot as plt\n",
    "\n",
    "import torch\n",
    "import torch.nn as nn\n",
    "from torch.utils.data import TensorDataset, DataLoader\n",
    "\n",
    "from tqdm.notebook import tqdm as tqdm_notebook\n",
    "from sklearn.preprocessing import MinMaxScaler\n",
    "from sklearn.preprocessing import StandardScaler"
   ]
  },
  {
   "cell_type": "markdown",
   "metadata": {
    "id": "JNUWZtYxZFkV"
   },
   "source": [
    "# Data Preperation\n",
    "\n",
    "```\n",
    "# Exploratory Data Analysis\n",
    "```\n",
    "\n"
   ]
  },
  {
   "cell_type": "code",
   "execution_count": 65,
   "metadata": {
    "colab": {
     "base_uri": "https://localhost:8080/"
    },
    "id": "uV2apqODbVVW",
    "outputId": "3c57e298-99ec-4d87-bd59-fead2b22c5e1"
   },
   "outputs": [
    {
     "name": "stdout",
     "output_type": "stream",
     "text": [
      "2.3.1+cpu\n"
     ]
    }
   ],
   "source": [
    "print(torch.__version__)"
   ]
  },
  {
   "cell_type": "code",
   "execution_count": 73,
   "metadata": {
    "id": "rkcdGhB0bY95",
    "scrolled": true
   },
   "outputs": [],
   "source": [
    "df = pd.read_csv(\"content/household_power_consumption_household_power_consumption.csv\")"
   ]
  },
  {
   "cell_type": "code",
   "execution_count": 74,
   "metadata": {
    "colab": {
     "base_uri": "https://localhost:8080/"
    },
    "id": "qJEMdbSQdL97",
    "outputId": "b2978300-cdf8-4ae7-8120-4a698781c612"
   },
   "outputs": [
    {
     "data": {
      "text/plain": [
       "(260640, 9)"
      ]
     },
     "execution_count": 74,
     "metadata": {},
     "output_type": "execute_result"
    }
   ],
   "source": [
    "df.head()\n",
    "df.shape #9 columns: 8 independant & 1 dependant variable"
   ]
  },
  {
   "cell_type": "code",
   "execution_count": 75,
   "metadata": {
    "colab": {
     "base_uri": "https://localhost:8080/",
     "height": 697
    },
    "id": "9DGhEa_ttyyx",
    "outputId": "4d97f55a-6b5b-42ff-c391-5750e8331a7a"
   },
   "outputs": [
    {
     "data": {
      "text/html": [
       "<div>\n",
       "<style scoped>\n",
       "    .dataframe tbody tr th:only-of-type {\n",
       "        vertical-align: middle;\n",
       "    }\n",
       "\n",
       "    .dataframe tbody tr th {\n",
       "        vertical-align: top;\n",
       "    }\n",
       "\n",
       "    .dataframe thead th {\n",
       "        text-align: right;\n",
       "    }\n",
       "</style>\n",
       "<table border=\"1\" class=\"dataframe\">\n",
       "  <thead>\n",
       "    <tr style=\"text-align: right;\">\n",
       "      <th></th>\n",
       "      <th>Date</th>\n",
       "      <th>Time</th>\n",
       "      <th>Global_active_power</th>\n",
       "      <th>Global_reactive_power</th>\n",
       "      <th>Voltage</th>\n",
       "      <th>Global_intensity</th>\n",
       "      <th>Sub_metering_1</th>\n",
       "      <th>Sub_metering_2</th>\n",
       "      <th>Sub_metering_3</th>\n",
       "    </tr>\n",
       "  </thead>\n",
       "  <tbody>\n",
       "    <tr>\n",
       "      <th>0</th>\n",
       "      <td>1/1/07</td>\n",
       "      <td>0:00:00</td>\n",
       "      <td>2.58</td>\n",
       "      <td>0.136</td>\n",
       "      <td>241.97</td>\n",
       "      <td>10.6</td>\n",
       "      <td>0</td>\n",
       "      <td>0</td>\n",
       "      <td>0.0</td>\n",
       "    </tr>\n",
       "    <tr>\n",
       "      <th>1</th>\n",
       "      <td>1/1/07</td>\n",
       "      <td>0:01:00</td>\n",
       "      <td>2.552</td>\n",
       "      <td>0.1</td>\n",
       "      <td>241.75</td>\n",
       "      <td>10.4</td>\n",
       "      <td>0</td>\n",
       "      <td>0</td>\n",
       "      <td>0.0</td>\n",
       "    </tr>\n",
       "    <tr>\n",
       "      <th>2</th>\n",
       "      <td>1/1/07</td>\n",
       "      <td>0:02:00</td>\n",
       "      <td>2.55</td>\n",
       "      <td>0.1</td>\n",
       "      <td>241.64</td>\n",
       "      <td>10.4</td>\n",
       "      <td>0</td>\n",
       "      <td>0</td>\n",
       "      <td>0.0</td>\n",
       "    </tr>\n",
       "    <tr>\n",
       "      <th>3</th>\n",
       "      <td>1/1/07</td>\n",
       "      <td>0:03:00</td>\n",
       "      <td>2.55</td>\n",
       "      <td>0.1</td>\n",
       "      <td>241.71</td>\n",
       "      <td>10.4</td>\n",
       "      <td>0</td>\n",
       "      <td>0</td>\n",
       "      <td>0.0</td>\n",
       "    </tr>\n",
       "    <tr>\n",
       "      <th>4</th>\n",
       "      <td>1/1/07</td>\n",
       "      <td>0:04:00</td>\n",
       "      <td>2.554</td>\n",
       "      <td>0.1</td>\n",
       "      <td>241.98</td>\n",
       "      <td>10.4</td>\n",
       "      <td>0</td>\n",
       "      <td>0</td>\n",
       "      <td>0.0</td>\n",
       "    </tr>\n",
       "    <tr>\n",
       "      <th>5</th>\n",
       "      <td>1/1/07</td>\n",
       "      <td>0:05:00</td>\n",
       "      <td>2.55</td>\n",
       "      <td>0.1</td>\n",
       "      <td>241.83</td>\n",
       "      <td>10.4</td>\n",
       "      <td>0</td>\n",
       "      <td>0</td>\n",
       "      <td>0.0</td>\n",
       "    </tr>\n",
       "    <tr>\n",
       "      <th>6</th>\n",
       "      <td>1/1/07</td>\n",
       "      <td>0:06:00</td>\n",
       "      <td>2.534</td>\n",
       "      <td>0.096</td>\n",
       "      <td>241.07</td>\n",
       "      <td>10.4</td>\n",
       "      <td>0</td>\n",
       "      <td>0</td>\n",
       "      <td>0.0</td>\n",
       "    </tr>\n",
       "    <tr>\n",
       "      <th>7</th>\n",
       "      <td>1/1/07</td>\n",
       "      <td>0:07:00</td>\n",
       "      <td>2.484</td>\n",
       "      <td>0</td>\n",
       "      <td>241.29</td>\n",
       "      <td>10.2</td>\n",
       "      <td>0</td>\n",
       "      <td>0</td>\n",
       "      <td>0.0</td>\n",
       "    </tr>\n",
       "    <tr>\n",
       "      <th>8</th>\n",
       "      <td>1/1/07</td>\n",
       "      <td>0:08:00</td>\n",
       "      <td>2.468</td>\n",
       "      <td>0</td>\n",
       "      <td>241.23</td>\n",
       "      <td>10.2</td>\n",
       "      <td>0</td>\n",
       "      <td>0</td>\n",
       "      <td>0.0</td>\n",
       "    </tr>\n",
       "    <tr>\n",
       "      <th>9</th>\n",
       "      <td>1/1/07</td>\n",
       "      <td>0:09:00</td>\n",
       "      <td>2.486</td>\n",
       "      <td>0</td>\n",
       "      <td>242.18</td>\n",
       "      <td>10.2</td>\n",
       "      <td>0</td>\n",
       "      <td>0</td>\n",
       "      <td>0.0</td>\n",
       "    </tr>\n",
       "    <tr>\n",
       "      <th>10</th>\n",
       "      <td>1/1/07</td>\n",
       "      <td>0:10:00</td>\n",
       "      <td>2.492</td>\n",
       "      <td>0</td>\n",
       "      <td>242.46</td>\n",
       "      <td>10.2</td>\n",
       "      <td>0</td>\n",
       "      <td>0</td>\n",
       "      <td>0.0</td>\n",
       "    </tr>\n",
       "    <tr>\n",
       "      <th>11</th>\n",
       "      <td>1/1/07</td>\n",
       "      <td>0:11:00</td>\n",
       "      <td>2.5</td>\n",
       "      <td>0</td>\n",
       "      <td>242.88</td>\n",
       "      <td>10.2</td>\n",
       "      <td>0</td>\n",
       "      <td>0</td>\n",
       "      <td>0.0</td>\n",
       "    </tr>\n",
       "    <tr>\n",
       "      <th>12</th>\n",
       "      <td>1/1/07</td>\n",
       "      <td>0:12:00</td>\n",
       "      <td>2.494</td>\n",
       "      <td>0</td>\n",
       "      <td>242.57</td>\n",
       "      <td>10.2</td>\n",
       "      <td>0</td>\n",
       "      <td>0</td>\n",
       "      <td>0.0</td>\n",
       "    </tr>\n",
       "    <tr>\n",
       "      <th>13</th>\n",
       "      <td>1/1/07</td>\n",
       "      <td>0:13:00</td>\n",
       "      <td>2.492</td>\n",
       "      <td>0</td>\n",
       "      <td>242.41</td>\n",
       "      <td>10.2</td>\n",
       "      <td>0</td>\n",
       "      <td>0</td>\n",
       "      <td>0.0</td>\n",
       "    </tr>\n",
       "    <tr>\n",
       "      <th>14</th>\n",
       "      <td>1/1/07</td>\n",
       "      <td>0:14:00</td>\n",
       "      <td>2.48</td>\n",
       "      <td>0</td>\n",
       "      <td>241.81</td>\n",
       "      <td>10.2</td>\n",
       "      <td>0</td>\n",
       "      <td>0</td>\n",
       "      <td>0.0</td>\n",
       "    </tr>\n",
       "    <tr>\n",
       "      <th>15</th>\n",
       "      <td>1/1/07</td>\n",
       "      <td>0:15:00</td>\n",
       "      <td>2.478</td>\n",
       "      <td>0</td>\n",
       "      <td>241.73</td>\n",
       "      <td>10.2</td>\n",
       "      <td>0</td>\n",
       "      <td>0</td>\n",
       "      <td>0.0</td>\n",
       "    </tr>\n",
       "    <tr>\n",
       "      <th>16</th>\n",
       "      <td>1/1/07</td>\n",
       "      <td>0:16:00</td>\n",
       "      <td>2.47</td>\n",
       "      <td>0</td>\n",
       "      <td>241.29</td>\n",
       "      <td>10.2</td>\n",
       "      <td>0</td>\n",
       "      <td>0</td>\n",
       "      <td>0.0</td>\n",
       "    </tr>\n",
       "    <tr>\n",
       "      <th>17</th>\n",
       "      <td>1/1/07</td>\n",
       "      <td>0:17:00</td>\n",
       "      <td>2.466</td>\n",
       "      <td>0</td>\n",
       "      <td>241.11</td>\n",
       "      <td>10.2</td>\n",
       "      <td>0</td>\n",
       "      <td>0</td>\n",
       "      <td>0.0</td>\n",
       "    </tr>\n",
       "    <tr>\n",
       "      <th>18</th>\n",
       "      <td>1/1/07</td>\n",
       "      <td>0:18:00</td>\n",
       "      <td>2.456</td>\n",
       "      <td>0</td>\n",
       "      <td>240.59</td>\n",
       "      <td>10.2</td>\n",
       "      <td>0</td>\n",
       "      <td>0</td>\n",
       "      <td>0.0</td>\n",
       "    </tr>\n",
       "    <tr>\n",
       "      <th>19</th>\n",
       "      <td>1/1/07</td>\n",
       "      <td>0:19:00</td>\n",
       "      <td>2.46</td>\n",
       "      <td>0</td>\n",
       "      <td>240.83</td>\n",
       "      <td>10.2</td>\n",
       "      <td>0</td>\n",
       "      <td>0</td>\n",
       "      <td>0.0</td>\n",
       "    </tr>\n",
       "  </tbody>\n",
       "</table>\n",
       "</div>"
      ],
      "text/plain": [
       "      Date     Time Global_active_power Global_reactive_power Voltage  \\\n",
       "0   1/1/07  0:00:00                2.58                 0.136  241.97   \n",
       "1   1/1/07  0:01:00               2.552                   0.1  241.75   \n",
       "2   1/1/07  0:02:00                2.55                   0.1  241.64   \n",
       "3   1/1/07  0:03:00                2.55                   0.1  241.71   \n",
       "4   1/1/07  0:04:00               2.554                   0.1  241.98   \n",
       "5   1/1/07  0:05:00                2.55                   0.1  241.83   \n",
       "6   1/1/07  0:06:00               2.534                 0.096  241.07   \n",
       "7   1/1/07  0:07:00               2.484                     0  241.29   \n",
       "8   1/1/07  0:08:00               2.468                     0  241.23   \n",
       "9   1/1/07  0:09:00               2.486                     0  242.18   \n",
       "10  1/1/07  0:10:00               2.492                     0  242.46   \n",
       "11  1/1/07  0:11:00                 2.5                     0  242.88   \n",
       "12  1/1/07  0:12:00               2.494                     0  242.57   \n",
       "13  1/1/07  0:13:00               2.492                     0  242.41   \n",
       "14  1/1/07  0:14:00                2.48                     0  241.81   \n",
       "15  1/1/07  0:15:00               2.478                     0  241.73   \n",
       "16  1/1/07  0:16:00                2.47                     0  241.29   \n",
       "17  1/1/07  0:17:00               2.466                     0  241.11   \n",
       "18  1/1/07  0:18:00               2.456                     0  240.59   \n",
       "19  1/1/07  0:19:00                2.46                     0  240.83   \n",
       "\n",
       "   Global_intensity Sub_metering_1 Sub_metering_2  Sub_metering_3  \n",
       "0              10.6              0              0             0.0  \n",
       "1              10.4              0              0             0.0  \n",
       "2              10.4              0              0             0.0  \n",
       "3              10.4              0              0             0.0  \n",
       "4              10.4              0              0             0.0  \n",
       "5              10.4              0              0             0.0  \n",
       "6              10.4              0              0             0.0  \n",
       "7              10.2              0              0             0.0  \n",
       "8              10.2              0              0             0.0  \n",
       "9              10.2              0              0             0.0  \n",
       "10             10.2              0              0             0.0  \n",
       "11             10.2              0              0             0.0  \n",
       "12             10.2              0              0             0.0  \n",
       "13             10.2              0              0             0.0  \n",
       "14             10.2              0              0             0.0  \n",
       "15             10.2              0              0             0.0  \n",
       "16             10.2              0              0             0.0  \n",
       "17             10.2              0              0             0.0  \n",
       "18             10.2              0              0             0.0  \n",
       "19             10.2              0              0             0.0  "
      ]
     },
     "execution_count": 75,
     "metadata": {},
     "output_type": "execute_result"
    }
   ],
   "source": [
    "df.head(20)"
   ]
  },
  {
   "cell_type": "code",
   "execution_count": null,
   "metadata": {},
   "outputs": [],
   "source": [
    "global_active_power = df.pop('Global_active_power')\n",
    "global_reactive_power = df.pop('Global_reactive_power')\n",
    "df['Global_active_power'] = global_active_power\n",
    "df['Global_reactive_power'] = global_reactive_power #adding them tot he end of the result"
   ]
  },
  {
   "cell_type": "code",
   "execution_count": 76,
   "metadata": {
    "colab": {
     "base_uri": "https://localhost:8080/"
    },
    "id": "ErvrdnJCSGcq",
    "outputId": "2c4d6161-43a4-4fb1-96a8-ddd1537abeb6"
   },
   "outputs": [
    {
     "data": {
      "text/plain": [
       "Date                      object\n",
       "Time                      object\n",
       "Global_active_power       object\n",
       "Global_reactive_power     object\n",
       "Voltage                   object\n",
       "Global_intensity          object\n",
       "Sub_metering_1            object\n",
       "Sub_metering_2            object\n",
       "Sub_metering_3           float64\n",
       "dtype: object"
      ]
     },
     "execution_count": 76,
     "metadata": {},
     "output_type": "execute_result"
    }
   ],
   "source": [
    "# df.dtypes\n",
    "df.infer_objects().dtypes"
   ]
  },
  {
   "cell_type": "code",
   "execution_count": 77,
   "metadata": {
    "colab": {
     "base_uri": "https://localhost:8080/"
    },
    "id": "BYilnzd1Xe5L",
    "outputId": "c18a969f-53e3-4b55-b06e-0dba8c1ea2d5"
   },
   "outputs": [
    {
     "data": {
      "text/plain": [
       "9"
      ]
     },
     "execution_count": 77,
     "metadata": {},
     "output_type": "execute_result"
    }
   ],
   "source": [
    "len(df.columns)"
   ]
  },
  {
   "cell_type": "code",
   "execution_count": 78,
   "metadata": {
    "colab": {
     "base_uri": "https://localhost:8080/"
    },
    "id": "UnaOz7a9pbAM",
    "outputId": "7f399f4f-ba52-4938-8eac-fcc1f1b3fb0c"
   },
   "outputs": [
    {
     "name": "stdout",
     "output_type": "stream",
     "text": [
      "Index(['Date', 'Time', 'Global_active_power', 'Global_reactive_power',\n",
      "       'Voltage', 'Global_intensity', 'Sub_metering_1', 'Sub_metering_2',\n",
      "       'Sub_metering_3'],\n",
      "      dtype='object')\n"
     ]
    }
   ],
   "source": [
    "print(df.columns)"
   ]
  },
  {
   "cell_type": "code",
   "execution_count": 87,
   "metadata": {
    "id": "8ZJZSOJ2SlU8"
   },
   "outputs": [
    {
     "name": "stderr",
     "output_type": "stream",
     "text": [
      "C:\\Users\\devan\\AppData\\Local\\Temp\\ipykernel_28744\\1559719565.py:1: UserWarning: Could not infer format, so each element will be parsed individually, falling back to `dateutil`. To ensure parsing is consistent and as-expected, please specify a format.\n",
      "  df['Date'] = pd.to_datetime(df['Date'])\n"
     ]
    }
   ],
   "source": [
    "df['Date'] = pd.to_datetime(df['Date'], dayfirst=True)\n",
    "df['DateTime'] = pd.to_datetime(df['Date'].dt.strftime('%Y-%m-%d') + ' ' + df['Time'])\n",
    "\n",
    "df.set_index('DateTime', inplace=True)\n",
    "\n",
    "df.drop(['Date', 'Time'], axis=1, inplace=True)"
   ]
  },
  {
   "cell_type": "code",
   "execution_count": 91,
   "metadata": {
    "colab": {
     "base_uri": "https://localhost:8080/"
    },
    "id": "kna5mHWMw4jJ",
    "outputId": "e9b9eaf8-638e-4377-8ebc-86de8e96d244"
   },
   "outputs": [
    {
     "name": "stdout",
     "output_type": "stream",
     "text": [
      "Converted column 2 to numeric\n",
      "Converted column 3 to numeric\n",
      "Converted column 4 to numeric\n",
      "Converted column 5 to numeric\n",
      "Converted column 6 to numeric\n",
      "Converted column 7 to numeric\n",
      "Converted column 8 to numeric\n",
      "Converted column 9 to numeric\n",
      "Converted column 10 to numeric\n",
      "Converted column 11 to numeric\n"
     ]
    }
   ],
   "source": [
    "for i in range(len(df.columns)):\n",
    "    try:\n",
    "        df[df.columns[i]] = pd.to_numeric(df[df.columns[i]], errors='coerce')\n",
    "        print(f\"Converted column {i} to numeric\")\n",
    "    except Exception as e:\n",
    "        print(f\"Could not convert column {i}: {e}\")"
   ]
  },
  {
   "cell_type": "code",
   "execution_count": null,
   "metadata": {},
   "outputs": [],
   "source": [
    "df.infer_objects().dtypes"
   ]
  },
  {
   "cell_type": "code",
   "execution_count": 93,
   "metadata": {
    "colab": {
     "base_uri": "https://localhost:8080/",
     "height": 617
    },
    "id": "qaPYwWXdxba4",
    "outputId": "fa3f43e4-d580-45c4-ee55-c19f4a45e3e5"
   },
   "outputs": [
    {
     "data": {
      "text/html": [
       "<div>\n",
       "<style scoped>\n",
       "    .dataframe tbody tr th:only-of-type {\n",
       "        vertical-align: middle;\n",
       "    }\n",
       "\n",
       "    .dataframe tbody tr th {\n",
       "        vertical-align: top;\n",
       "    }\n",
       "\n",
       "    .dataframe thead th {\n",
       "        text-align: right;\n",
       "    }\n",
       "</style>\n",
       "<table border=\"1\" class=\"dataframe\">\n",
       "  <thead>\n",
       "    <tr style=\"text-align: right;\">\n",
       "      <th></th>\n",
       "      <th>Date</th>\n",
       "      <th>Time</th>\n",
       "      <th>Global_active_power</th>\n",
       "      <th>Global_reactive_power</th>\n",
       "      <th>Voltage</th>\n",
       "      <th>Global_intensity</th>\n",
       "      <th>Sub_metering_1</th>\n",
       "      <th>Sub_metering_2</th>\n",
       "      <th>Sub_metering_3</th>\n",
       "      <th>dayofweek</th>\n",
       "      <th>month</th>\n",
       "      <th>dayofyear</th>\n",
       "      <th>Hour</th>\n",
       "      <th>Minute</th>\n",
       "    </tr>\n",
       "  </thead>\n",
       "  <tbody>\n",
       "    <tr>\n",
       "      <th>0</th>\n",
       "      <td>2007-01-01</td>\n",
       "      <td>0 days 00:00:00</td>\n",
       "      <td>2.580</td>\n",
       "      <td>0.136</td>\n",
       "      <td>241.97</td>\n",
       "      <td>10.6</td>\n",
       "      <td>0.0</td>\n",
       "      <td>0.0</td>\n",
       "      <td>0.0</td>\n",
       "      <td>0</td>\n",
       "      <td>1</td>\n",
       "      <td>1</td>\n",
       "      <td>0</td>\n",
       "      <td>0</td>\n",
       "    </tr>\n",
       "    <tr>\n",
       "      <th>1</th>\n",
       "      <td>2007-01-01</td>\n",
       "      <td>0 days 00:01:00</td>\n",
       "      <td>2.552</td>\n",
       "      <td>0.100</td>\n",
       "      <td>241.75</td>\n",
       "      <td>10.4</td>\n",
       "      <td>0.0</td>\n",
       "      <td>0.0</td>\n",
       "      <td>0.0</td>\n",
       "      <td>0</td>\n",
       "      <td>1</td>\n",
       "      <td>1</td>\n",
       "      <td>0</td>\n",
       "      <td>1</td>\n",
       "    </tr>\n",
       "    <tr>\n",
       "      <th>2</th>\n",
       "      <td>2007-01-01</td>\n",
       "      <td>0 days 00:02:00</td>\n",
       "      <td>2.550</td>\n",
       "      <td>0.100</td>\n",
       "      <td>241.64</td>\n",
       "      <td>10.4</td>\n",
       "      <td>0.0</td>\n",
       "      <td>0.0</td>\n",
       "      <td>0.0</td>\n",
       "      <td>0</td>\n",
       "      <td>1</td>\n",
       "      <td>1</td>\n",
       "      <td>0</td>\n",
       "      <td>2</td>\n",
       "    </tr>\n",
       "    <tr>\n",
       "      <th>3</th>\n",
       "      <td>2007-01-01</td>\n",
       "      <td>0 days 00:03:00</td>\n",
       "      <td>2.550</td>\n",
       "      <td>0.100</td>\n",
       "      <td>241.71</td>\n",
       "      <td>10.4</td>\n",
       "      <td>0.0</td>\n",
       "      <td>0.0</td>\n",
       "      <td>0.0</td>\n",
       "      <td>0</td>\n",
       "      <td>1</td>\n",
       "      <td>1</td>\n",
       "      <td>0</td>\n",
       "      <td>3</td>\n",
       "    </tr>\n",
       "    <tr>\n",
       "      <th>4</th>\n",
       "      <td>2007-01-01</td>\n",
       "      <td>0 days 00:04:00</td>\n",
       "      <td>2.554</td>\n",
       "      <td>0.100</td>\n",
       "      <td>241.98</td>\n",
       "      <td>10.4</td>\n",
       "      <td>0.0</td>\n",
       "      <td>0.0</td>\n",
       "      <td>0.0</td>\n",
       "      <td>0</td>\n",
       "      <td>1</td>\n",
       "      <td>1</td>\n",
       "      <td>0</td>\n",
       "      <td>4</td>\n",
       "    </tr>\n",
       "    <tr>\n",
       "      <th>...</th>\n",
       "      <td>...</td>\n",
       "      <td>...</td>\n",
       "      <td>...</td>\n",
       "      <td>...</td>\n",
       "      <td>...</td>\n",
       "      <td>...</td>\n",
       "      <td>...</td>\n",
       "      <td>...</td>\n",
       "      <td>...</td>\n",
       "      <td>...</td>\n",
       "      <td>...</td>\n",
       "      <td>...</td>\n",
       "      <td>...</td>\n",
       "      <td>...</td>\n",
       "    </tr>\n",
       "    <tr>\n",
       "      <th>495</th>\n",
       "      <td>2007-01-01</td>\n",
       "      <td>0 days 08:15:00</td>\n",
       "      <td>2.456</td>\n",
       "      <td>0.098</td>\n",
       "      <td>241.33</td>\n",
       "      <td>10.2</td>\n",
       "      <td>0.0</td>\n",
       "      <td>0.0</td>\n",
       "      <td>0.0</td>\n",
       "      <td>0</td>\n",
       "      <td>1</td>\n",
       "      <td>1</td>\n",
       "      <td>8</td>\n",
       "      <td>15</td>\n",
       "    </tr>\n",
       "    <tr>\n",
       "      <th>496</th>\n",
       "      <td>2007-01-01</td>\n",
       "      <td>0 days 08:16:00</td>\n",
       "      <td>2.444</td>\n",
       "      <td>0.094</td>\n",
       "      <td>240.72</td>\n",
       "      <td>10.0</td>\n",
       "      <td>0.0</td>\n",
       "      <td>0.0</td>\n",
       "      <td>0.0</td>\n",
       "      <td>0</td>\n",
       "      <td>1</td>\n",
       "      <td>1</td>\n",
       "      <td>8</td>\n",
       "      <td>16</td>\n",
       "    </tr>\n",
       "    <tr>\n",
       "      <th>497</th>\n",
       "      <td>2007-01-01</td>\n",
       "      <td>0 days 08:17:00</td>\n",
       "      <td>2.438</td>\n",
       "      <td>0.094</td>\n",
       "      <td>240.49</td>\n",
       "      <td>10.0</td>\n",
       "      <td>0.0</td>\n",
       "      <td>0.0</td>\n",
       "      <td>0.0</td>\n",
       "      <td>0</td>\n",
       "      <td>1</td>\n",
       "      <td>1</td>\n",
       "      <td>8</td>\n",
       "      <td>17</td>\n",
       "    </tr>\n",
       "    <tr>\n",
       "      <th>498</th>\n",
       "      <td>2007-01-01</td>\n",
       "      <td>0 days 08:18:00</td>\n",
       "      <td>2.372</td>\n",
       "      <td>0.000</td>\n",
       "      <td>240.59</td>\n",
       "      <td>9.8</td>\n",
       "      <td>0.0</td>\n",
       "      <td>0.0</td>\n",
       "      <td>0.0</td>\n",
       "      <td>0</td>\n",
       "      <td>1</td>\n",
       "      <td>1</td>\n",
       "      <td>8</td>\n",
       "      <td>18</td>\n",
       "    </tr>\n",
       "    <tr>\n",
       "      <th>499</th>\n",
       "      <td>2007-01-01</td>\n",
       "      <td>0 days 08:19:00</td>\n",
       "      <td>2.366</td>\n",
       "      <td>0.000</td>\n",
       "      <td>240.27</td>\n",
       "      <td>9.8</td>\n",
       "      <td>0.0</td>\n",
       "      <td>0.0</td>\n",
       "      <td>0.0</td>\n",
       "      <td>0</td>\n",
       "      <td>1</td>\n",
       "      <td>1</td>\n",
       "      <td>8</td>\n",
       "      <td>19</td>\n",
       "    </tr>\n",
       "  </tbody>\n",
       "</table>\n",
       "<p>500 rows × 14 columns</p>\n",
       "</div>"
      ],
      "text/plain": [
       "          Date            Time  Global_active_power  Global_reactive_power  \\\n",
       "0   2007-01-01 0 days 00:00:00                2.580                  0.136   \n",
       "1   2007-01-01 0 days 00:01:00                2.552                  0.100   \n",
       "2   2007-01-01 0 days 00:02:00                2.550                  0.100   \n",
       "3   2007-01-01 0 days 00:03:00                2.550                  0.100   \n",
       "4   2007-01-01 0 days 00:04:00                2.554                  0.100   \n",
       "..         ...             ...                  ...                    ...   \n",
       "495 2007-01-01 0 days 08:15:00                2.456                  0.098   \n",
       "496 2007-01-01 0 days 08:16:00                2.444                  0.094   \n",
       "497 2007-01-01 0 days 08:17:00                2.438                  0.094   \n",
       "498 2007-01-01 0 days 08:18:00                2.372                  0.000   \n",
       "499 2007-01-01 0 days 08:19:00                2.366                  0.000   \n",
       "\n",
       "     Voltage  Global_intensity  Sub_metering_1  Sub_metering_2  \\\n",
       "0     241.97              10.6             0.0             0.0   \n",
       "1     241.75              10.4             0.0             0.0   \n",
       "2     241.64              10.4             0.0             0.0   \n",
       "3     241.71              10.4             0.0             0.0   \n",
       "4     241.98              10.4             0.0             0.0   \n",
       "..       ...               ...             ...             ...   \n",
       "495   241.33              10.2             0.0             0.0   \n",
       "496   240.72              10.0             0.0             0.0   \n",
       "497   240.49              10.0             0.0             0.0   \n",
       "498   240.59               9.8             0.0             0.0   \n",
       "499   240.27               9.8             0.0             0.0   \n",
       "\n",
       "     Sub_metering_3  dayofweek  month  dayofyear  Hour  Minute  \n",
       "0               0.0          0      1          1     0       0  \n",
       "1               0.0          0      1          1     0       1  \n",
       "2               0.0          0      1          1     0       2  \n",
       "3               0.0          0      1          1     0       3  \n",
       "4               0.0          0      1          1     0       4  \n",
       "..              ...        ...    ...        ...   ...     ...  \n",
       "495             0.0          0      1          1     8      15  \n",
       "496             0.0          0      1          1     8      16  \n",
       "497             0.0          0      1          1     8      17  \n",
       "498             0.0          0      1          1     8      18  \n",
       "499             0.0          0      1          1     8      19  \n",
       "\n",
       "[500 rows x 14 columns]"
      ]
     },
     "execution_count": 93,
     "metadata": {},
     "output_type": "execute_result"
    }
   ],
   "source": [
    "df.head(500)"
   ]
  },
  {
   "cell_type": "code",
   "execution_count": 94,
   "metadata": {
    "id": "rmFfF2P4vT0w"
   },
   "outputs": [],
   "source": [
    "df.shape\n",
    "df.drop(['Date', 'Time'], axis=1, inplace=True)"
   ]
  },
  {
   "cell_type": "code",
   "execution_count": 95,
   "metadata": {
    "colab": {
     "base_uri": "https://localhost:8080/"
    },
    "id": "2OGaErk9UvYA",
    "outputId": "cca80fc2-c69a-4623-98dd-7a2863300f47"
   },
   "outputs": [
    {
     "data": {
      "text/plain": [
       "Global_active_power      float64\n",
       "Global_reactive_power    float64\n",
       "Voltage                  float64\n",
       "Global_intensity         float64\n",
       "Sub_metering_1           float64\n",
       "Sub_metering_2           float64\n",
       "Sub_metering_3           float64\n",
       "dayofweek                  int32\n",
       "month                      int32\n",
       "dayofyear                  int32\n",
       "Hour                       int64\n",
       "Minute                     int64\n",
       "dtype: object"
      ]
     },
     "execution_count": 95,
     "metadata": {},
     "output_type": "execute_result"
    }
   ],
   "source": [
    "df.infer_objects().dtypes"
   ]
  },
  {
   "cell_type": "code",
   "execution_count": 96,
   "metadata": {
    "colab": {
     "base_uri": "https://localhost:8080/",
     "height": 226
    },
    "id": "jJMyxuOGZRLO",
    "outputId": "727c4ce5-e882-4fe3-c375-c555ae3cf09e"
   },
   "outputs": [
    {
     "data": {
      "text/html": [
       "<div>\n",
       "<style scoped>\n",
       "    .dataframe tbody tr th:only-of-type {\n",
       "        vertical-align: middle;\n",
       "    }\n",
       "\n",
       "    .dataframe tbody tr th {\n",
       "        vertical-align: top;\n",
       "    }\n",
       "\n",
       "    .dataframe thead th {\n",
       "        text-align: right;\n",
       "    }\n",
       "</style>\n",
       "<table border=\"1\" class=\"dataframe\">\n",
       "  <thead>\n",
       "    <tr style=\"text-align: right;\">\n",
       "      <th></th>\n",
       "      <th>Global_active_power</th>\n",
       "      <th>Global_reactive_power</th>\n",
       "      <th>Voltage</th>\n",
       "      <th>Global_intensity</th>\n",
       "      <th>Sub_metering_1</th>\n",
       "      <th>Sub_metering_2</th>\n",
       "      <th>Sub_metering_3</th>\n",
       "      <th>dayofweek</th>\n",
       "      <th>month</th>\n",
       "      <th>dayofyear</th>\n",
       "      <th>Hour</th>\n",
       "      <th>Minute</th>\n",
       "    </tr>\n",
       "  </thead>\n",
       "  <tbody>\n",
       "    <tr>\n",
       "      <th>0</th>\n",
       "      <td>2.580</td>\n",
       "      <td>0.136</td>\n",
       "      <td>241.97</td>\n",
       "      <td>10.6</td>\n",
       "      <td>0.0</td>\n",
       "      <td>0.0</td>\n",
       "      <td>0.0</td>\n",
       "      <td>0</td>\n",
       "      <td>1</td>\n",
       "      <td>1</td>\n",
       "      <td>0</td>\n",
       "      <td>0</td>\n",
       "    </tr>\n",
       "    <tr>\n",
       "      <th>1</th>\n",
       "      <td>2.552</td>\n",
       "      <td>0.100</td>\n",
       "      <td>241.75</td>\n",
       "      <td>10.4</td>\n",
       "      <td>0.0</td>\n",
       "      <td>0.0</td>\n",
       "      <td>0.0</td>\n",
       "      <td>0</td>\n",
       "      <td>1</td>\n",
       "      <td>1</td>\n",
       "      <td>0</td>\n",
       "      <td>1</td>\n",
       "    </tr>\n",
       "    <tr>\n",
       "      <th>2</th>\n",
       "      <td>2.550</td>\n",
       "      <td>0.100</td>\n",
       "      <td>241.64</td>\n",
       "      <td>10.4</td>\n",
       "      <td>0.0</td>\n",
       "      <td>0.0</td>\n",
       "      <td>0.0</td>\n",
       "      <td>0</td>\n",
       "      <td>1</td>\n",
       "      <td>1</td>\n",
       "      <td>0</td>\n",
       "      <td>2</td>\n",
       "    </tr>\n",
       "    <tr>\n",
       "      <th>3</th>\n",
       "      <td>2.550</td>\n",
       "      <td>0.100</td>\n",
       "      <td>241.71</td>\n",
       "      <td>10.4</td>\n",
       "      <td>0.0</td>\n",
       "      <td>0.0</td>\n",
       "      <td>0.0</td>\n",
       "      <td>0</td>\n",
       "      <td>1</td>\n",
       "      <td>1</td>\n",
       "      <td>0</td>\n",
       "      <td>3</td>\n",
       "    </tr>\n",
       "    <tr>\n",
       "      <th>4</th>\n",
       "      <td>2.554</td>\n",
       "      <td>0.100</td>\n",
       "      <td>241.98</td>\n",
       "      <td>10.4</td>\n",
       "      <td>0.0</td>\n",
       "      <td>0.0</td>\n",
       "      <td>0.0</td>\n",
       "      <td>0</td>\n",
       "      <td>1</td>\n",
       "      <td>1</td>\n",
       "      <td>0</td>\n",
       "      <td>4</td>\n",
       "    </tr>\n",
       "  </tbody>\n",
       "</table>\n",
       "</div>"
      ],
      "text/plain": [
       "   Global_active_power  Global_reactive_power  Voltage  Global_intensity  \\\n",
       "0                2.580                  0.136   241.97              10.6   \n",
       "1                2.552                  0.100   241.75              10.4   \n",
       "2                2.550                  0.100   241.64              10.4   \n",
       "3                2.550                  0.100   241.71              10.4   \n",
       "4                2.554                  0.100   241.98              10.4   \n",
       "\n",
       "   Sub_metering_1  Sub_metering_2  Sub_metering_3  dayofweek  month  \\\n",
       "0             0.0             0.0             0.0          0      1   \n",
       "1             0.0             0.0             0.0          0      1   \n",
       "2             0.0             0.0             0.0          0      1   \n",
       "3             0.0             0.0             0.0          0      1   \n",
       "4             0.0             0.0             0.0          0      1   \n",
       "\n",
       "   dayofyear  Hour  Minute  \n",
       "0          1     0       0  \n",
       "1          1     0       1  \n",
       "2          1     0       2  \n",
       "3          1     0       3  \n",
       "4          1     0       4  "
      ]
     },
     "execution_count": 96,
     "metadata": {},
     "output_type": "execute_result"
    }
   ],
   "source": [
    "df.head()"
   ]
  },
  {
   "cell_type": "code",
   "execution_count": null,
   "metadata": {},
   "outputs": [],
   "source": [
    "df_default = df[1::60] #Every hour analysis"
   ]
  },
  {
   "cell_type": "code",
   "execution_count": null,
   "metadata": {},
   "outputs": [],
   "source": [
    "df_default.head()"
   ]
  },
  {
   "cell_type": "code",
   "execution_count": null,
   "metadata": {},
   "outputs": [],
   "source": [
    "df_default.infer_objects().dtypes"
   ]
  },
  {
   "cell_type": "code",
   "execution_count": null,
   "metadata": {},
   "outputs": [],
   "source": [
    "tempV = df_default['Voltage']\n",
    "tempV.plot()"
   ]
  },
  {
   "cell_type": "code",
   "execution_count": null,
   "metadata": {},
   "outputs": [],
   "source": [
    "tempG = df_default['Global_intensity']\n",
    "tempG.plot()"
   ]
  },
  {
   "cell_type": "code",
   "execution_count": null,
   "metadata": {},
   "outputs": [],
   "source": [
    "tempP = df_default['Global_active_power']\n",
    "tempP.plot()"
   ]
  },
  {
   "cell_type": "code",
   "execution_count": null,
   "metadata": {},
   "outputs": [],
   "source": [
    "tempS = df_default['Sub_metering_1']\n",
    "tempS.plot()"
   ]
  },
  {
   "cell_type": "code",
   "execution_count": null,
   "metadata": {},
   "outputs": [],
   "source": [
    "tempS2 = df_default['Sub_metering_2']\n",
    "tempS.plot()"
   ]
  },
  {
   "cell_type": "code",
   "execution_count": null,
   "metadata": {},
   "outputs": [],
   "source": [
    "tempS3 = df_default['Sub_metering_3']\n",
    "tempS.plot()"
   ]
  },
  {
   "cell_type": "code",
   "execution_count": 98,
   "metadata": {
    "id": "0LfuGolvUvVq"
   },
   "outputs": [],
   "source": [
    "df_group_1 = df_default[df_default['Sub_metering_1'] != 0][['Voltage',\t'Global_intensity',\t'Sub_metering_1', 'Global_active_power','Global_reactive_power']]\n",
    "df_group_2 = df_default[df_default['Sub_metering_2'] != 0][['Voltage',\t'Global_intensity',\t'Sub_metering_2', 'Global_active_power','Global_reactive_power']]\n",
    "df_group_3 = df_default[df_default['Sub_metering_3'] != 0][['Voltage',\t'Global_intensity',\t'Sub_metering_3', 'Global_active_power','Global_reactive_power',]]"
   ]
  },
  {
   "cell_type": "code",
   "execution_count": 99,
   "metadata": {
    "colab": {
     "base_uri": "https://localhost:8080/",
     "height": 320
    },
    "id": "ydVMWB2IUvTU",
    "outputId": "e4285cae-2edc-4e3e-bb46-e9a0a49e11e1"
   },
   "outputs": [
    {
     "data": {
      "text/html": [
       "<div>\n",
       "<style scoped>\n",
       "    .dataframe tbody tr th:only-of-type {\n",
       "        vertical-align: middle;\n",
       "    }\n",
       "\n",
       "    .dataframe tbody tr th {\n",
       "        vertical-align: top;\n",
       "    }\n",
       "\n",
       "    .dataframe thead th {\n",
       "        text-align: right;\n",
       "    }\n",
       "</style>\n",
       "<table border=\"1\" class=\"dataframe\">\n",
       "  <thead>\n",
       "    <tr style=\"text-align: right;\">\n",
       "      <th></th>\n",
       "      <th>Global_active_power</th>\n",
       "      <th>Global_reactive_power</th>\n",
       "      <th>Voltage</th>\n",
       "      <th>Global_intensity</th>\n",
       "      <th>Sub_metering_3</th>\n",
       "      <th>dayofweek</th>\n",
       "      <th>month</th>\n",
       "      <th>dayofyear</th>\n",
       "      <th>Hour</th>\n",
       "      <th>Minute</th>\n",
       "    </tr>\n",
       "  </thead>\n",
       "  <tbody>\n",
       "    <tr>\n",
       "      <th>count</th>\n",
       "      <td>86996.000000</td>\n",
       "      <td>86996.000000</td>\n",
       "      <td>86996.000000</td>\n",
       "      <td>86996.000000</td>\n",
       "      <td>86996.000000</td>\n",
       "      <td>90767.000000</td>\n",
       "      <td>90767.000000</td>\n",
       "      <td>90767.000000</td>\n",
       "      <td>90767.000000</td>\n",
       "      <td>90767.000000</td>\n",
       "    </tr>\n",
       "    <tr>\n",
       "      <th>mean</th>\n",
       "      <td>2.182119</td>\n",
       "      <td>0.137726</td>\n",
       "      <td>237.769858</td>\n",
       "      <td>9.210244</td>\n",
       "      <td>17.219355</td>\n",
       "      <td>3.007007</td>\n",
       "      <td>4.504512</td>\n",
       "      <td>120.239305</td>\n",
       "      <td>13.261626</td>\n",
       "      <td>29.494078</td>\n",
       "    </tr>\n",
       "    <tr>\n",
       "      <th>std</th>\n",
       "      <td>1.157982</td>\n",
       "      <td>0.123673</td>\n",
       "      <td>3.554284</td>\n",
       "      <td>4.994707</td>\n",
       "      <td>1.344115</td>\n",
       "      <td>2.038492</td>\n",
       "      <td>2.979774</td>\n",
       "      <td>86.091500</td>\n",
       "      <td>5.973373</td>\n",
       "      <td>17.355877</td>\n",
       "    </tr>\n",
       "    <tr>\n",
       "      <th>min</th>\n",
       "      <td>0.160000</td>\n",
       "      <td>0.000000</td>\n",
       "      <td>223.490000</td>\n",
       "      <td>0.800000</td>\n",
       "      <td>1.000000</td>\n",
       "      <td>0.000000</td>\n",
       "      <td>1.000000</td>\n",
       "      <td>1.000000</td>\n",
       "      <td>0.000000</td>\n",
       "      <td>0.000000</td>\n",
       "    </tr>\n",
       "    <tr>\n",
       "      <th>25%</th>\n",
       "      <td>1.380000</td>\n",
       "      <td>0.052000</td>\n",
       "      <td>235.300000</td>\n",
       "      <td>5.800000</td>\n",
       "      <td>17.000000</td>\n",
       "      <td>1.000000</td>\n",
       "      <td>2.000000</td>\n",
       "      <td>50.000000</td>\n",
       "      <td>9.000000</td>\n",
       "      <td>14.000000</td>\n",
       "    </tr>\n",
       "    <tr>\n",
       "      <th>50%</th>\n",
       "      <td>1.652000</td>\n",
       "      <td>0.108000</td>\n",
       "      <td>238.130000</td>\n",
       "      <td>7.000000</td>\n",
       "      <td>17.000000</td>\n",
       "      <td>3.000000</td>\n",
       "      <td>4.000000</td>\n",
       "      <td>111.000000</td>\n",
       "      <td>13.000000</td>\n",
       "      <td>30.000000</td>\n",
       "    </tr>\n",
       "    <tr>\n",
       "      <th>75%</th>\n",
       "      <td>2.696000</td>\n",
       "      <td>0.208000</td>\n",
       "      <td>240.330000</td>\n",
       "      <td>11.400000</td>\n",
       "      <td>18.000000</td>\n",
       "      <td>5.000000</td>\n",
       "      <td>6.000000</td>\n",
       "      <td>168.000000</td>\n",
       "      <td>19.000000</td>\n",
       "      <td>45.000000</td>\n",
       "    </tr>\n",
       "    <tr>\n",
       "      <th>max</th>\n",
       "      <td>10.670000</td>\n",
       "      <td>1.148000</td>\n",
       "      <td>249.760000</td>\n",
       "      <td>46.400000</td>\n",
       "      <td>20.000000</td>\n",
       "      <td>6.000000</td>\n",
       "      <td>12.000000</td>\n",
       "      <td>340.000000</td>\n",
       "      <td>23.000000</td>\n",
       "      <td>59.000000</td>\n",
       "    </tr>\n",
       "  </tbody>\n",
       "</table>\n",
       "</div>"
      ],
      "text/plain": [
       "       Global_active_power  Global_reactive_power       Voltage  \\\n",
       "count         86996.000000           86996.000000  86996.000000   \n",
       "mean              2.182119               0.137726    237.769858   \n",
       "std               1.157982               0.123673      3.554284   \n",
       "min               0.160000               0.000000    223.490000   \n",
       "25%               1.380000               0.052000    235.300000   \n",
       "50%               1.652000               0.108000    238.130000   \n",
       "75%               2.696000               0.208000    240.330000   \n",
       "max              10.670000               1.148000    249.760000   \n",
       "\n",
       "       Global_intensity  Sub_metering_3     dayofweek         month  \\\n",
       "count      86996.000000    86996.000000  90767.000000  90767.000000   \n",
       "mean           9.210244       17.219355      3.007007      4.504512   \n",
       "std            4.994707        1.344115      2.038492      2.979774   \n",
       "min            0.800000        1.000000      0.000000      1.000000   \n",
       "25%            5.800000       17.000000      1.000000      2.000000   \n",
       "50%            7.000000       17.000000      3.000000      4.000000   \n",
       "75%           11.400000       18.000000      5.000000      6.000000   \n",
       "max           46.400000       20.000000      6.000000     12.000000   \n",
       "\n",
       "          dayofyear          Hour        Minute  \n",
       "count  90767.000000  90767.000000  90767.000000  \n",
       "mean     120.239305     13.261626     29.494078  \n",
       "std       86.091500      5.973373     17.355877  \n",
       "min        1.000000      0.000000      0.000000  \n",
       "25%       50.000000      9.000000     14.000000  \n",
       "50%      111.000000     13.000000     30.000000  \n",
       "75%      168.000000     19.000000     45.000000  \n",
       "max      340.000000     23.000000     59.000000  "
      ]
     },
     "execution_count": 99,
     "metadata": {},
     "output_type": "execute_result"
    }
   ],
   "source": [
    "# df_sub_metering_1.describe()\n",
    "# df_sub_metering_2.describe()\n",
    "df_group_3.describe()"
   ]
  },
  {
   "cell_type": "code",
   "execution_count": null,
   "metadata": {},
   "outputs": [],
   "source": [
    "df_group_3.plot(kind='scatter', x='Sub_metering_3', y='Global_active_power', s=32, alpha=.8)\n",
    "plt.gca().spines[['top', 'right',]].set_visible(False)"
   ]
  },
  {
   "cell_type": "markdown",
   "metadata": {},
   "source": [
    "df_group_2.plot(kind='scatter', x='Sub_metering_2', y='Global_active_power', s=32, alpha=.8)\n",
    "plt.gca().spines[['top', 'right',]].set_visible(False)"
   ]
  },
  {
   "cell_type": "markdown",
   "metadata": {},
   "source": [
    "df_group_1.plot(kind='scatter', x='Sub_metering_1', y='Global_active_power', s=32, alpha=.8)\n",
    "plt.gca().spines[['top', 'right',]].set_visible(False)"
   ]
  },
  {
   "cell_type": "code",
   "execution_count": null,
   "metadata": {},
   "outputs": [],
   "source": [
    "df_group_3['Voltage'].plot(kind='hist', bins=20, title='Voltage')\n",
    "plt.gca().spines[['top', 'right',]].set_visible(False)"
   ]
  },
  {
   "cell_type": "code",
   "execution_count": null,
   "metadata": {},
   "outputs": [],
   "source": [
    "df_group_3['Global_active_power'].plot(kind='hist', bins=20, title='Voltage')\n",
    "plt.gca().spines[['top', 'right',]].set_visible(False)"
   ]
  },
  {
   "cell_type": "code",
   "execution_count": null,
   "metadata": {},
   "outputs": [],
   "source": [
    "df_group_3.plot(figsize=(7,6))"
   ]
  },
  {
   "cell_type": "markdown",
   "metadata": {
    "id": "k4m8rgDmZANo"
   },
   "source": [
    "# Data Processing\n",
    "\n",
    "```\n",
    "#Feature Extraction\n",
    "```"
   ]
  },
  {
   "cell_type": "code",
   "execution_count": 104,
   "metadata": {
    "id": "kxZ95jqNYmuJ"
   },
   "outputs": [],
   "source": [
    "# Create interaction features\n",
    "df_default['Kitchen_laundry_interaction'] = df_default['Sub_metering_1'] * df_default['Sub_metering_2']\n",
    "\n",
    "# Handle missing values\n",
    "df_default.fillna(df.mean(), inplace=True)\n",
    "\n",
    "# Scale numerical features\n",
    "scaler = StandardScaler()\n",
    "numerical_cols = ['Global_active_power', 'Global_reactive_power', 'Voltage', 'Global_intensity', 'Sub_metering_1', 'Sub_metering_2', 'Sub_metering_3']\n",
    "df_default[numerical_cols] = scaler.fit_transform(df_default[numerical_cols])\n",
    "\n",
    "# Save the engineered features\n",
    "df_default.to_csv('engineered_features.csv', index=False)"
   ]
  },
  {
   "cell_type": "code",
   "execution_count": null,
   "metadata": {
    "id": "cV8KNUdcZVRS"
   },
   "outputs": [],
   "source": []
  },
  {
   "cell_type": "code",
   "execution_count": null,
   "metadata": {
    "id": "of4Ac8LjZVPD"
   },
   "outputs": [],
   "source": []
  },
  {
   "cell_type": "markdown",
   "metadata": {
    "id": "ClV90l8aZWq3"
   },
   "source": [
    "# ARIMA\n"
   ]
  },
  {
   "cell_type": "code",
   "execution_count": null,
   "metadata": {
    "id": "KGc8TsmrZfuE"
   },
   "outputs": [],
   "source": []
  },
  {
   "cell_type": "code",
   "execution_count": null,
   "metadata": {
    "id": "IsReb2-gZfr7"
   },
   "outputs": [],
   "source": []
  },
  {
   "cell_type": "code",
   "execution_count": null,
   "metadata": {
    "id": "SPNKuTr2Zfpn"
   },
   "outputs": [],
   "source": []
  },
  {
   "cell_type": "markdown",
   "metadata": {
    "id": "XCF2yNrqZiC_"
   },
   "source": [
    "# SARIMA"
   ]
  },
  {
   "cell_type": "code",
   "execution_count": null,
   "metadata": {
    "id": "-n8rCR1fZk2c"
   },
   "outputs": [],
   "source": []
  },
  {
   "cell_type": "code",
   "execution_count": null,
   "metadata": {
    "id": "pHUnHg8-ZlU5"
   },
   "outputs": [],
   "source": []
  },
  {
   "cell_type": "code",
   "execution_count": null,
   "metadata": {
    "id": "F805bP_pZlOZ"
   },
   "outputs": [],
   "source": []
  },
  {
   "cell_type": "markdown",
   "metadata": {
    "id": "KHNF2mpJZmXj"
   },
   "source": [
    "# LSTM"
   ]
  },
  {
   "cell_type": "code",
   "execution_count": null,
   "metadata": {
    "id": "yKlg7T08ZqCd"
   },
   "outputs": [],
   "source": []
  },
  {
   "cell_type": "markdown",
   "metadata": {
    "id": "ygRmD759Zxab"
   },
   "source": [
    "# GRU"
   ]
  },
  {
   "cell_type": "code",
   "execution_count": null,
   "metadata": {
    "id": "aaPcnDsdaAGN"
   },
   "outputs": [],
   "source": []
  },
  {
   "cell_type": "code",
   "execution_count": null,
   "metadata": {
    "id": "_yPAdOaeZ__i"
   },
   "outputs": [],
   "source": []
  },
  {
   "cell_type": "code",
   "execution_count": null,
   "metadata": {
    "id": "af4YMI36Z_lY"
   },
   "outputs": [],
   "source": []
  }
 ],
 "metadata": {
  "colab": {
   "collapsed_sections": [
    "YwD6pYEvZMwO",
    "k4m8rgDmZANo",
    "ClV90l8aZWq3",
    "XCF2yNrqZiC_",
    "KHNF2mpJZmXj",
    "ygRmD759Zxab"
   ],
   "provenance": []
  },
  "kernelspec": {
   "display_name": "Python 3 (ipykernel)",
   "language": "python",
   "name": "python3"
  },
  "language_info": {
   "codemirror_mode": {
    "name": "ipython",
    "version": 3
   },
   "file_extension": ".py",
   "mimetype": "text/x-python",
   "name": "python",
   "nbconvert_exporter": "python",
   "pygments_lexer": "ipython3",
   "version": "3.11.7"
  }
 },
 "nbformat": 4,
 "nbformat_minor": 4
}
