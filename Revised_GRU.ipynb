{
 "cells": [
  {
   "cell_type": "markdown",
   "metadata": {
    "id": "YwD6pYEvZMwO"
   },
   "source": [
    "# Imports"
   ]
  },
  {
   "cell_type": "code",
   "execution_count": null,
   "metadata": {
    "id": "4b3tQ9JOa1RR"
   },
   "outputs": [],
   "source": [
    "import numpy as np\n",
    "import pandas as pd\n",
    "import matplotlib.pyplot as plt\n",
    "\n",
    "from tqdm.notebook import tqdm as tqdm_notebook\n",
    "from sklearn.preprocessing import MinMaxScaler\n",
    "from tensorflow.keras.models import Sequential\n",
    "from tensorflow.keras.layers import *\n",
    "from tensorflow.keras.callbacks import ModelCheckpoint\n",
    "from tensorflow.keras.losses import MeanSquaredError\n",
    "from tensorflow.keras.metrics import RootMeanSquaredError\n",
    "from tensorflow.keras.optimizers import Adam\n",
    "from tensorflow.keras.models import load_model\n",
    "from sklearn.metrics import mean_squared_error as mse\n",
    "\n"
   ]
  },
  {
   "cell_type": "markdown",
   "metadata": {
    "id": "JNUWZtYxZFkV"
   },
   "source": [
    "# Data Preperation\n",
    "\n",
    "```\n",
    "# Exploratory Data Analysis\n",
    "```\n",
    "\n"
   ]
  },
  {
   "cell_type": "code",
   "execution_count": null,
   "metadata": {
    "id": "rkcdGhB0bY95",
    "scrolled": true
   },
   "outputs": [],
   "source": [
    "df = pd.read_csv(\"household_power_consumption_household_power_consumption.csv\")"
   ]
  },
  {
   "cell_type": "code",
   "execution_count": null,
   "metadata": {
    "colab": {
     "base_uri": "https://localhost:8080/"
    },
    "id": "qJEMdbSQdL97",
    "outputId": "b2978300-cdf8-4ae7-8120-4a698781c612"
   },
   "outputs": [
    {
     "data": {
      "text/plain": [
       "(260640, 9)"
      ]
     },
     "execution_count": 74,
     "metadata": {},
     "output_type": "execute_result"
    }
   ],
   "source": [
    "df.head()\n",
    "df.shape #9 columns"
   ]
  },
  {
   "cell_type": "code",
   "execution_count": null,
   "metadata": {
    "colab": {
     "base_uri": "https://localhost:8080/",
     "height": 697
    },
    "id": "9DGhEa_ttyyx",
    "outputId": "4d97f55a-6b5b-42ff-c391-5750e8331a7a"
   },
   "outputs": [
    {
     "data": {
      "text/html": [
       "<div>\n",
       "<style scoped>\n",
       "    .dataframe tbody tr th:only-of-type {\n",
       "        vertical-align: middle;\n",
       "    }\n",
       "\n",
       "    .dataframe tbody tr th {\n",
       "        vertical-align: top;\n",
       "    }\n",
       "\n",
       "    .dataframe thead th {\n",
       "        text-align: right;\n",
       "    }\n",
       "</style>\n",
       "<table border=\"1\" class=\"dataframe\">\n",
       "  <thead>\n",
       "    <tr style=\"text-align: right;\">\n",
       "      <th></th>\n",
       "      <th>Date</th>\n",
       "      <th>Time</th>\n",
       "      <th>Global_active_power</th>\n",
       "      <th>Global_reactive_power</th>\n",
       "      <th>Voltage</th>\n",
       "      <th>Global_intensity</th>\n",
       "      <th>Sub_metering_1</th>\n",
       "      <th>Sub_metering_2</th>\n",
       "      <th>Sub_metering_3</th>\n",
       "    </tr>\n",
       "  </thead>\n",
       "  <tbody>\n",
       "    <tr>\n",
       "      <th>0</th>\n",
       "      <td>1/1/07</td>\n",
       "      <td>0:00:00</td>\n",
       "      <td>2.58</td>\n",
       "      <td>0.136</td>\n",
       "      <td>241.97</td>\n",
       "      <td>10.6</td>\n",
       "      <td>0</td>\n",
       "      <td>0</td>\n",
       "      <td>0.0</td>\n",
       "    </tr>\n",
       "    <tr>\n",
       "      <th>1</th>\n",
       "      <td>1/1/07</td>\n",
       "      <td>0:01:00</td>\n",
       "      <td>2.552</td>\n",
       "      <td>0.1</td>\n",
       "      <td>241.75</td>\n",
       "      <td>10.4</td>\n",
       "      <td>0</td>\n",
       "      <td>0</td>\n",
       "      <td>0.0</td>\n",
       "    </tr>\n",
       "    <tr>\n",
       "      <th>2</th>\n",
       "      <td>1/1/07</td>\n",
       "      <td>0:02:00</td>\n",
       "      <td>2.55</td>\n",
       "      <td>0.1</td>\n",
       "      <td>241.64</td>\n",
       "      <td>10.4</td>\n",
       "      <td>0</td>\n",
       "      <td>0</td>\n",
       "      <td>0.0</td>\n",
       "    </tr>\n",
       "    <tr>\n",
       "      <th>3</th>\n",
       "      <td>1/1/07</td>\n",
       "      <td>0:03:00</td>\n",
       "      <td>2.55</td>\n",
       "      <td>0.1</td>\n",
       "      <td>241.71</td>\n",
       "      <td>10.4</td>\n",
       "      <td>0</td>\n",
       "      <td>0</td>\n",
       "      <td>0.0</td>\n",
       "    </tr>\n",
       "    <tr>\n",
       "      <th>4</th>\n",
       "      <td>1/1/07</td>\n",
       "      <td>0:04:00</td>\n",
       "      <td>2.554</td>\n",
       "      <td>0.1</td>\n",
       "      <td>241.98</td>\n",
       "      <td>10.4</td>\n",
       "      <td>0</td>\n",
       "      <td>0</td>\n",
       "      <td>0.0</td>\n",
       "    </tr>\n",
       "    <tr>\n",
       "      <th>5</th>\n",
       "      <td>1/1/07</td>\n",
       "      <td>0:05:00</td>\n",
       "      <td>2.55</td>\n",
       "      <td>0.1</td>\n",
       "      <td>241.83</td>\n",
       "      <td>10.4</td>\n",
       "      <td>0</td>\n",
       "      <td>0</td>\n",
       "      <td>0.0</td>\n",
       "    </tr>\n",
       "    <tr>\n",
       "      <th>6</th>\n",
       "      <td>1/1/07</td>\n",
       "      <td>0:06:00</td>\n",
       "      <td>2.534</td>\n",
       "      <td>0.096</td>\n",
       "      <td>241.07</td>\n",
       "      <td>10.4</td>\n",
       "      <td>0</td>\n",
       "      <td>0</td>\n",
       "      <td>0.0</td>\n",
       "    </tr>\n",
       "    <tr>\n",
       "      <th>7</th>\n",
       "      <td>1/1/07</td>\n",
       "      <td>0:07:00</td>\n",
       "      <td>2.484</td>\n",
       "      <td>0</td>\n",
       "      <td>241.29</td>\n",
       "      <td>10.2</td>\n",
       "      <td>0</td>\n",
       "      <td>0</td>\n",
       "      <td>0.0</td>\n",
       "    </tr>\n",
       "    <tr>\n",
       "      <th>8</th>\n",
       "      <td>1/1/07</td>\n",
       "      <td>0:08:00</td>\n",
       "      <td>2.468</td>\n",
       "      <td>0</td>\n",
       "      <td>241.23</td>\n",
       "      <td>10.2</td>\n",
       "      <td>0</td>\n",
       "      <td>0</td>\n",
       "      <td>0.0</td>\n",
       "    </tr>\n",
       "    <tr>\n",
       "      <th>9</th>\n",
       "      <td>1/1/07</td>\n",
       "      <td>0:09:00</td>\n",
       "      <td>2.486</td>\n",
       "      <td>0</td>\n",
       "      <td>242.18</td>\n",
       "      <td>10.2</td>\n",
       "      <td>0</td>\n",
       "      <td>0</td>\n",
       "      <td>0.0</td>\n",
       "    </tr>\n",
       "    <tr>\n",
       "      <th>10</th>\n",
       "      <td>1/1/07</td>\n",
       "      <td>0:10:00</td>\n",
       "      <td>2.492</td>\n",
       "      <td>0</td>\n",
       "      <td>242.46</td>\n",
       "      <td>10.2</td>\n",
       "      <td>0</td>\n",
       "      <td>0</td>\n",
       "      <td>0.0</td>\n",
       "    </tr>\n",
       "    <tr>\n",
       "      <th>11</th>\n",
       "      <td>1/1/07</td>\n",
       "      <td>0:11:00</td>\n",
       "      <td>2.5</td>\n",
       "      <td>0</td>\n",
       "      <td>242.88</td>\n",
       "      <td>10.2</td>\n",
       "      <td>0</td>\n",
       "      <td>0</td>\n",
       "      <td>0.0</td>\n",
       "    </tr>\n",
       "    <tr>\n",
       "      <th>12</th>\n",
       "      <td>1/1/07</td>\n",
       "      <td>0:12:00</td>\n",
       "      <td>2.494</td>\n",
       "      <td>0</td>\n",
       "      <td>242.57</td>\n",
       "      <td>10.2</td>\n",
       "      <td>0</td>\n",
       "      <td>0</td>\n",
       "      <td>0.0</td>\n",
       "    </tr>\n",
       "    <tr>\n",
       "      <th>13</th>\n",
       "      <td>1/1/07</td>\n",
       "      <td>0:13:00</td>\n",
       "      <td>2.492</td>\n",
       "      <td>0</td>\n",
       "      <td>242.41</td>\n",
       "      <td>10.2</td>\n",
       "      <td>0</td>\n",
       "      <td>0</td>\n",
       "      <td>0.0</td>\n",
       "    </tr>\n",
       "    <tr>\n",
       "      <th>14</th>\n",
       "      <td>1/1/07</td>\n",
       "      <td>0:14:00</td>\n",
       "      <td>2.48</td>\n",
       "      <td>0</td>\n",
       "      <td>241.81</td>\n",
       "      <td>10.2</td>\n",
       "      <td>0</td>\n",
       "      <td>0</td>\n",
       "      <td>0.0</td>\n",
       "    </tr>\n",
       "    <tr>\n",
       "      <th>15</th>\n",
       "      <td>1/1/07</td>\n",
       "      <td>0:15:00</td>\n",
       "      <td>2.478</td>\n",
       "      <td>0</td>\n",
       "      <td>241.73</td>\n",
       "      <td>10.2</td>\n",
       "      <td>0</td>\n",
       "      <td>0</td>\n",
       "      <td>0.0</td>\n",
       "    </tr>\n",
       "    <tr>\n",
       "      <th>16</th>\n",
       "      <td>1/1/07</td>\n",
       "      <td>0:16:00</td>\n",
       "      <td>2.47</td>\n",
       "      <td>0</td>\n",
       "      <td>241.29</td>\n",
       "      <td>10.2</td>\n",
       "      <td>0</td>\n",
       "      <td>0</td>\n",
       "      <td>0.0</td>\n",
       "    </tr>\n",
       "    <tr>\n",
       "      <th>17</th>\n",
       "      <td>1/1/07</td>\n",
       "      <td>0:17:00</td>\n",
       "      <td>2.466</td>\n",
       "      <td>0</td>\n",
       "      <td>241.11</td>\n",
       "      <td>10.2</td>\n",
       "      <td>0</td>\n",
       "      <td>0</td>\n",
       "      <td>0.0</td>\n",
       "    </tr>\n",
       "    <tr>\n",
       "      <th>18</th>\n",
       "      <td>1/1/07</td>\n",
       "      <td>0:18:00</td>\n",
       "      <td>2.456</td>\n",
       "      <td>0</td>\n",
       "      <td>240.59</td>\n",
       "      <td>10.2</td>\n",
       "      <td>0</td>\n",
       "      <td>0</td>\n",
       "      <td>0.0</td>\n",
       "    </tr>\n",
       "    <tr>\n",
       "      <th>19</th>\n",
       "      <td>1/1/07</td>\n",
       "      <td>0:19:00</td>\n",
       "      <td>2.46</td>\n",
       "      <td>0</td>\n",
       "      <td>240.83</td>\n",
       "      <td>10.2</td>\n",
       "      <td>0</td>\n",
       "      <td>0</td>\n",
       "      <td>0.0</td>\n",
       "    </tr>\n",
       "  </tbody>\n",
       "</table>\n",
       "</div>"
      ],
      "text/plain": [
       "      Date     Time Global_active_power Global_reactive_power Voltage  \\\n",
       "0   1/1/07  0:00:00                2.58                 0.136  241.97   \n",
       "1   1/1/07  0:01:00               2.552                   0.1  241.75   \n",
       "2   1/1/07  0:02:00                2.55                   0.1  241.64   \n",
       "3   1/1/07  0:03:00                2.55                   0.1  241.71   \n",
       "4   1/1/07  0:04:00               2.554                   0.1  241.98   \n",
       "5   1/1/07  0:05:00                2.55                   0.1  241.83   \n",
       "6   1/1/07  0:06:00               2.534                 0.096  241.07   \n",
       "7   1/1/07  0:07:00               2.484                     0  241.29   \n",
       "8   1/1/07  0:08:00               2.468                     0  241.23   \n",
       "9   1/1/07  0:09:00               2.486                     0  242.18   \n",
       "10  1/1/07  0:10:00               2.492                     0  242.46   \n",
       "11  1/1/07  0:11:00                 2.5                     0  242.88   \n",
       "12  1/1/07  0:12:00               2.494                     0  242.57   \n",
       "13  1/1/07  0:13:00               2.492                     0  242.41   \n",
       "14  1/1/07  0:14:00                2.48                     0  241.81   \n",
       "15  1/1/07  0:15:00               2.478                     0  241.73   \n",
       "16  1/1/07  0:16:00                2.47                     0  241.29   \n",
       "17  1/1/07  0:17:00               2.466                     0  241.11   \n",
       "18  1/1/07  0:18:00               2.456                     0  240.59   \n",
       "19  1/1/07  0:19:00                2.46                     0  240.83   \n",
       "\n",
       "   Global_intensity Sub_metering_1 Sub_metering_2  Sub_metering_3  \n",
       "0              10.6              0              0             0.0  \n",
       "1              10.4              0              0             0.0  \n",
       "2              10.4              0              0             0.0  \n",
       "3              10.4              0              0             0.0  \n",
       "4              10.4              0              0             0.0  \n",
       "5              10.4              0              0             0.0  \n",
       "6              10.4              0              0             0.0  \n",
       "7              10.2              0              0             0.0  \n",
       "8              10.2              0              0             0.0  \n",
       "9              10.2              0              0             0.0  \n",
       "10             10.2              0              0             0.0  \n",
       "11             10.2              0              0             0.0  \n",
       "12             10.2              0              0             0.0  \n",
       "13             10.2              0              0             0.0  \n",
       "14             10.2              0              0             0.0  \n",
       "15             10.2              0              0             0.0  \n",
       "16             10.2              0              0             0.0  \n",
       "17             10.2              0              0             0.0  \n",
       "18             10.2              0              0             0.0  \n",
       "19             10.2              0              0             0.0  "
      ]
     },
     "execution_count": 75,
     "metadata": {},
     "output_type": "execute_result"
    }
   ],
   "source": [
    "df.head(20)"
   ]
  },
  {
   "cell_type": "code",
   "execution_count": null,
   "metadata": {},
   "outputs": [],
   "source": [
    "#Shifting Powers to the last column \n",
    "global_active_power = df.pop('Global_active_power')\n",
    "global_reactive_power = df.pop('Global_reactive_power')\n",
    "df['Global_active_power'] = global_active_power\n",
    "df['Global_reactive_power'] = global_reactive_power #adding them tot he end of the result"
   ]
  },
  {
   "cell_type": "code",
   "execution_count": null,
   "metadata": {
    "colab": {
     "base_uri": "https://localhost:8080/"
    },
    "id": "ErvrdnJCSGcq",
    "outputId": "2c4d6161-43a4-4fb1-96a8-ddd1537abeb6"
   },
   "outputs": [
    {
     "data": {
      "text/plain": [
       "Date                      object\n",
       "Time                      object\n",
       "Global_active_power       object\n",
       "Global_reactive_power     object\n",
       "Voltage                   object\n",
       "Global_intensity          object\n",
       "Sub_metering_1            object\n",
       "Sub_metering_2            object\n",
       "Sub_metering_3           float64\n",
       "dtype: object"
      ]
     },
     "execution_count": 76,
     "metadata": {},
     "output_type": "execute_result"
    }
   ],
   "source": [
    "# df.dtypes\n",
    "df.infer_objects().dtypes"
   ]
  },
  {
   "cell_type": "code",
   "execution_count": null,
   "metadata": {
    "id": "8ZJZSOJ2SlU8"
   },
   "outputs": [],
   "source": [
    "df['Date'] = pd.to_datetime(df['Date'], dayfirst=True)\n",
    "df['DateTime'] = pd.to_datetime(df['Date'].dt.strftime('%Y-%m-%d') + ' ' + df['Time'])\n",
    "\n",
    "df.set_index('DateTime', inplace=True)\n",
    "\n",
    "df.drop(['Date', 'Time'], axis=1, inplace=True)"
   ]
  },
  {
   "cell_type": "code",
   "execution_count": null,
   "metadata": {
    "colab": {
     "base_uri": "https://localhost:8080/"
    },
    "id": "kna5mHWMw4jJ",
    "outputId": "e9b9eaf8-638e-4377-8ebc-86de8e96d244"
   },
   "outputs": [],
   "source": [
    "#Object to numeric datatype\n",
    "for i in range(len(df.columns)):\n",
    "    try:\n",
    "      df[df.columns[i]] = pd.to_numeric(df[df.columns[i]], errors='coerce')\n",
    "    except Exception as e:\n",
    "      pass"
   ]
  },
  {
   "cell_type": "code",
   "execution_count": null,
   "metadata": {
    "colab": {
     "base_uri": "https://localhost:8080/"
    },
    "id": "2OGaErk9UvYA",
    "outputId": "cca80fc2-c69a-4623-98dd-7a2863300f47"
   },
   "outputs": [],
   "source": [
    "df.infer_objects().dtypes"
   ]
  },
  {
   "cell_type": "code",
   "execution_count": null,
   "metadata": {},
   "outputs": [],
   "source": [
    "tempV = df['Voltage']\n",
    "tempV.plot()"
   ]
  },
  {
   "cell_type": "code",
   "execution_count": null,
   "metadata": {},
   "outputs": [],
   "source": [
    "tempP = df['Global_active_power']\n",
    "tempP.plot()"
   ]
  },
  {
   "cell_type": "code",
   "execution_count": null,
   "metadata": {},
   "outputs": [],
   "source": [
    "tempS = df['Sub_metering_1']\n",
    "tempS.plot()"
   ]
  },
  {
   "cell_type": "code",
   "execution_count": null,
   "metadata": {},
   "outputs": [],
   "source": [
    "tempS2 = df['Sub_metering_2']\n",
    "tempS.plot()"
   ]
  },
  {
   "cell_type": "code",
   "execution_count": null,
   "metadata": {},
   "outputs": [],
   "source": [
    "tempS3 = df['Sub_metering_3']\n",
    "tempS.plot()"
   ]
  },
  {
   "cell_type": "code",
   "execution_count": null,
   "metadata": {
    "id": "0LfuGolvUvVq"
   },
   "outputs": [],
   "source": [
    "df_group_1 = df[['Voltage',\t'Global_intensity',\t'Sub_metering_1', 'Global_active_power','Global_reactive_power']]\n",
    "df_group_2 = df[['Voltage',\t'Global_intensity',\t'Sub_metering_2', 'Global_active_power','Global_reactive_power']]\n",
    "df_group_3 = df[['Voltage',\t'Global_intensity',\t'Sub_metering_3', 'Global_active_power','Global_reactive_power',]]"
   ]
  },
  {
   "cell_type": "code",
   "execution_count": null,
   "metadata": {
    "colab": {
     "base_uri": "https://localhost:8080/",
     "height": 320
    },
    "id": "ydVMWB2IUvTU",
    "outputId": "e4285cae-2edc-4e3e-bb46-e9a0a49e11e1"
   },
   "outputs": [
    {
     "data": {
      "text/html": [
       "<div>\n",
       "<style scoped>\n",
       "    .dataframe tbody tr th:only-of-type {\n",
       "        vertical-align: middle;\n",
       "    }\n",
       "\n",
       "    .dataframe tbody tr th {\n",
       "        vertical-align: top;\n",
       "    }\n",
       "\n",
       "    .dataframe thead th {\n",
       "        text-align: right;\n",
       "    }\n",
       "</style>\n",
       "<table border=\"1\" class=\"dataframe\">\n",
       "  <thead>\n",
       "    <tr style=\"text-align: right;\">\n",
       "      <th></th>\n",
       "      <th>Global_active_power</th>\n",
       "      <th>Global_reactive_power</th>\n",
       "      <th>Voltage</th>\n",
       "      <th>Global_intensity</th>\n",
       "      <th>Sub_metering_3</th>\n",
       "      <th>dayofweek</th>\n",
       "      <th>month</th>\n",
       "      <th>dayofyear</th>\n",
       "      <th>Hour</th>\n",
       "      <th>Minute</th>\n",
       "    </tr>\n",
       "  </thead>\n",
       "  <tbody>\n",
       "    <tr>\n",
       "      <th>count</th>\n",
       "      <td>86996.000000</td>\n",
       "      <td>86996.000000</td>\n",
       "      <td>86996.000000</td>\n",
       "      <td>86996.000000</td>\n",
       "      <td>86996.000000</td>\n",
       "      <td>90767.000000</td>\n",
       "      <td>90767.000000</td>\n",
       "      <td>90767.000000</td>\n",
       "      <td>90767.000000</td>\n",
       "      <td>90767.000000</td>\n",
       "    </tr>\n",
       "    <tr>\n",
       "      <th>mean</th>\n",
       "      <td>2.182119</td>\n",
       "      <td>0.137726</td>\n",
       "      <td>237.769858</td>\n",
       "      <td>9.210244</td>\n",
       "      <td>17.219355</td>\n",
       "      <td>3.007007</td>\n",
       "      <td>4.504512</td>\n",
       "      <td>120.239305</td>\n",
       "      <td>13.261626</td>\n",
       "      <td>29.494078</td>\n",
       "    </tr>\n",
       "    <tr>\n",
       "      <th>std</th>\n",
       "      <td>1.157982</td>\n",
       "      <td>0.123673</td>\n",
       "      <td>3.554284</td>\n",
       "      <td>4.994707</td>\n",
       "      <td>1.344115</td>\n",
       "      <td>2.038492</td>\n",
       "      <td>2.979774</td>\n",
       "      <td>86.091500</td>\n",
       "      <td>5.973373</td>\n",
       "      <td>17.355877</td>\n",
       "    </tr>\n",
       "    <tr>\n",
       "      <th>min</th>\n",
       "      <td>0.160000</td>\n",
       "      <td>0.000000</td>\n",
       "      <td>223.490000</td>\n",
       "      <td>0.800000</td>\n",
       "      <td>1.000000</td>\n",
       "      <td>0.000000</td>\n",
       "      <td>1.000000</td>\n",
       "      <td>1.000000</td>\n",
       "      <td>0.000000</td>\n",
       "      <td>0.000000</td>\n",
       "    </tr>\n",
       "    <tr>\n",
       "      <th>25%</th>\n",
       "      <td>1.380000</td>\n",
       "      <td>0.052000</td>\n",
       "      <td>235.300000</td>\n",
       "      <td>5.800000</td>\n",
       "      <td>17.000000</td>\n",
       "      <td>1.000000</td>\n",
       "      <td>2.000000</td>\n",
       "      <td>50.000000</td>\n",
       "      <td>9.000000</td>\n",
       "      <td>14.000000</td>\n",
       "    </tr>\n",
       "    <tr>\n",
       "      <th>50%</th>\n",
       "      <td>1.652000</td>\n",
       "      <td>0.108000</td>\n",
       "      <td>238.130000</td>\n",
       "      <td>7.000000</td>\n",
       "      <td>17.000000</td>\n",
       "      <td>3.000000</td>\n",
       "      <td>4.000000</td>\n",
       "      <td>111.000000</td>\n",
       "      <td>13.000000</td>\n",
       "      <td>30.000000</td>\n",
       "    </tr>\n",
       "    <tr>\n",
       "      <th>75%</th>\n",
       "      <td>2.696000</td>\n",
       "      <td>0.208000</td>\n",
       "      <td>240.330000</td>\n",
       "      <td>11.400000</td>\n",
       "      <td>18.000000</td>\n",
       "      <td>5.000000</td>\n",
       "      <td>6.000000</td>\n",
       "      <td>168.000000</td>\n",
       "      <td>19.000000</td>\n",
       "      <td>45.000000</td>\n",
       "    </tr>\n",
       "    <tr>\n",
       "      <th>max</th>\n",
       "      <td>10.670000</td>\n",
       "      <td>1.148000</td>\n",
       "      <td>249.760000</td>\n",
       "      <td>46.400000</td>\n",
       "      <td>20.000000</td>\n",
       "      <td>6.000000</td>\n",
       "      <td>12.000000</td>\n",
       "      <td>340.000000</td>\n",
       "      <td>23.000000</td>\n",
       "      <td>59.000000</td>\n",
       "    </tr>\n",
       "  </tbody>\n",
       "</table>\n",
       "</div>"
      ],
      "text/plain": [
       "       Global_active_power  Global_reactive_power       Voltage  \\\n",
       "count         86996.000000           86996.000000  86996.000000   \n",
       "mean              2.182119               0.137726    237.769858   \n",
       "std               1.157982               0.123673      3.554284   \n",
       "min               0.160000               0.000000    223.490000   \n",
       "25%               1.380000               0.052000    235.300000   \n",
       "50%               1.652000               0.108000    238.130000   \n",
       "75%               2.696000               0.208000    240.330000   \n",
       "max              10.670000               1.148000    249.760000   \n",
       "\n",
       "       Global_intensity  Sub_metering_3     dayofweek         month  \\\n",
       "count      86996.000000    86996.000000  90767.000000  90767.000000   \n",
       "mean           9.210244       17.219355      3.007007      4.504512   \n",
       "std            4.994707        1.344115      2.038492      2.979774   \n",
       "min            0.800000        1.000000      0.000000      1.000000   \n",
       "25%            5.800000       17.000000      1.000000      2.000000   \n",
       "50%            7.000000       17.000000      3.000000      4.000000   \n",
       "75%           11.400000       18.000000      5.000000      6.000000   \n",
       "max           46.400000       20.000000      6.000000     12.000000   \n",
       "\n",
       "          dayofyear          Hour        Minute  \n",
       "count  90767.000000  90767.000000  90767.000000  \n",
       "mean     120.239305     13.261626     29.494078  \n",
       "std       86.091500      5.973373     17.355877  \n",
       "min        1.000000      0.000000      0.000000  \n",
       "25%       50.000000      9.000000     14.000000  \n",
       "50%      111.000000     13.000000     30.000000  \n",
       "75%      168.000000     19.000000     45.000000  \n",
       "max      340.000000     23.000000     59.000000  "
      ]
     },
     "execution_count": 99,
     "metadata": {},
     "output_type": "execute_result"
    }
   ],
   "source": [
    "# df_sub_metering_1.describe()\n",
    "# df_sub_metering_2.describe()\n",
    "df_group_3.describe()"
   ]
  },
  {
   "cell_type": "markdown",
   "metadata": {},
   "source": [
    "df_group_3"
   ]
  },
  {
   "cell_type": "code",
   "execution_count": null,
   "metadata": {},
   "outputs": [],
   "source": [
    "df_group_3.plot(kind='scatter', x='Sub_metering_3', y='Global_active_power', s=32, alpha=.8)\n",
    "plt.gca().spines[['top', 'right',]].set_visible(False)"
   ]
  },
  {
   "cell_type": "markdown",
   "metadata": {},
   "source": [
    "df_group_2.plot(kind='scatter', x='Sub_metering_2', y='Global_active_power', s=32, alpha=.8)\n",
    "plt.gca().spines[['top', 'right',]].set_visible(False)"
   ]
  },
  {
   "cell_type": "markdown",
   "metadata": {},
   "source": [
    "df_group_1.plot(kind='scatter', x='Sub_metering_1', y='Global_active_power', s=32, alpha=.8)\n",
    "plt.gca().spines[['top', 'right',]].set_visible(False)"
   ]
  },
  {
   "cell_type": "code",
   "execution_count": null,
   "metadata": {},
   "outputs": [],
   "source": [
    "df_group_3['Voltage'].plot(kind='hist', bins=20, title='Voltage')\n",
    "plt.gca().spines[['top', 'right',]].set_visible(False)"
   ]
  },
  {
   "cell_type": "code",
   "execution_count": null,
   "metadata": {},
   "outputs": [],
   "source": [
    "df_group_3['Global_active_power'].plot(kind='hist', bins=20, title='Voltage')\n",
    "plt.gca().spines[['top', 'right',]].set_visible(False)"
   ]
  },
  {
   "cell_type": "code",
   "execution_count": null,
   "metadata": {},
   "outputs": [],
   "source": [
    "df_group_3.plot(figsize=(7,6))"
   ]
  },
  {
   "cell_type": "code",
   "execution_count": null,
   "metadata": {
    "id": "cV8KNUdcZVRS"
   },
   "outputs": [],
   "source": [
    "df.shape\n",
    "print(df.isnull().sum())\n",
    "df = df.dropna(subset=['Sub_metering_1', 'Sub_metering_2', 'Sub_metering_3'])\n",
    "df"
   ]
  },
  {
   "cell_type": "code",
   "execution_count": null,
   "metadata": {
    "id": "of4Ac8LjZVPD"
   },
   "outputs": [],
   "source": [
    "#We will be working with the forecasting of Sub Metering 1 == temp as a measure of precision\n",
    "temp = df['Sub_metering_1']\n",
    "temp.plot()"
   ]
  },
  {
   "cell_type": "code",
   "execution_count": null,
   "metadata": {
    "id": "KGc8TsmrZfuE"
   },
   "outputs": [],
   "source": [
    "#Defining window size of forecast\n",
    "#[1, 2, 3, 4, 5] --> [6] minute\n",
    "def df_to_X_y(df, window_size=5):\n",
    "  df_as_np = df.to_numpy()\n",
    "  X = []\n",
    "  y = []\n",
    "  for i in range(len(df_as_np)-window_size):\n",
    "    row = [[a] for a in df_as_np[i:i+window_size]]\n",
    "    X.append(row)\n",
    "    label = df_as_np[i+window_size]\n",
    "    y.append(label)\n",
    "  return np.array(X), np.array(y)"
   ]
  },
  {
   "cell_type": "code",
   "execution_count": null,
   "metadata": {
    "id": "IsReb2-gZfr7"
   },
   "outputs": [],
   "source": [
    "WINDOW_SIZE = 5\n",
    "X1, y1 = df_to_X_y(temp, WINDOW_SIZE)\n",
    "X1.shape, y1.shape"
   ]
  },
  {
   "cell_type": "code",
   "execution_count": null,
   "metadata": {
    "id": "SPNKuTr2Zfpn"
   },
   "outputs": [],
   "source": [
    "#256864 total records\n",
    "X_train1, y_train1 = X1[:180000], y1[:180000]\n",
    "X_val1, y_val1 = X1[180000:220000], y1[180000:220000]\n",
    "X_test1, y_test1 = X1[220000:], y1[220000:]\n",
    "X_train1.shape, y_train1.shape, X_val1.shape, y_val1.shape, X_test1.shape, y_test1.shape"
   ]
  },
  {
   "cell_type": "code",
   "execution_count": null,
   "metadata": {
    "id": "-n8rCR1fZk2c"
   },
   "outputs": [],
   "source": [
    "#Preprocessing Data - scaling\n",
    "from sklearn.preprocessing import MinMaxScaler\n",
    "\n",
    "scaler = MinMaxScaler()\n",
    "X_train1 = scaler.fit_transform(X_train1.reshape(-1, X_train1.shape[-1])).reshape(X_train1.shape)\n",
    "X_val1 = scaler.transform(X_val1.reshape(-1, X_val1.shape[-1])).reshape(X_val1.shape)\n",
    "X_test1 = scaler.transform(X_test1.reshape(-1, X_test1.shape[-1])).reshape(X_test1.shape)"
   ]
  },
  {
   "cell_type": "code",
   "execution_count": null,
   "metadata": {
    "id": "pHUnHg8-ZlU5"
   },
   "outputs": [],
   "source": [
    "#Making DateTime column as index\n",
    "df['DateTime'] = df.index\n",
    "df = df[['DateTime'] + [col for col in df.columns if col != 'DateTime']]"
   ]
  },
  {
   "cell_type": "code",
   "execution_count": null,
   "metadata": {
    "id": "F805bP_pZlOZ"
   },
   "outputs": [],
   "source": [
    "#MODEL 1 : LSTM with ReLU\n",
    "model1 = Sequential()\n",
    "model1.add(InputLayer((5, 1)))\n",
    "model1.add(LSTM(64))\n",
    "model1.add(Dense(8, 'relu'))\n",
    "model1.add(Dense(1, 'linear'))\n",
    "\n",
    "model1.summary()"
   ]
  },
  {
   "cell_type": "code",
   "execution_count": null,
   "metadata": {
    "id": "yKlg7T08ZqCd"
   },
   "outputs": [],
   "source": [
    "cp1 = ModelCheckpoint('model1/', save_best_only=True)\n",
    "model1.compile(loss=MeanSquaredError(), optimizer=Adam(learning_rate=0.0001), metrics=[RootMeanSquaredError()])\n",
    "model1.fit(X_train1, y_train1, validation_data=(X_val1, y_val1), epochs=10, callbacks=[cp1])"
   ]
  },
  {
   "cell_type": "code",
   "execution_count": null,
   "metadata": {
    "id": "aaPcnDsdaAGN"
   },
   "outputs": [],
   "source": [
    "#Predictions\n",
    "\n",
    "def plot_predictions1(model, X, y, start=0, end=100):\n",
    "  predictions = model.predict(X).flatten()\n",
    "  df = pd.DataFrame(data={'Predictions':predictions, 'Actuals':y})\n",
    "  plt.plot(df['Predictions'][start:end])\n",
    "  plt.plot(df['Actuals'][start:end])\n",
    "  return df, mse(y, predictions)\n",
    "\n",
    "train_predictions = model1.predict(X_train1).flatten()\n",
    "train_results = pd.DataFrame(data={'Train Predictions':train_predictions, 'Actuals':y_train1})\n",
    "train_results\n",
    "val_predictions = model1.predict(X_val1).flatten()\n",
    "val_results = pd.DataFrame(data={'Val Predictions':val_predictions, 'Actuals':y_val1})\n",
    "val_results"
   ]
  },
  {
   "cell_type": "code",
   "execution_count": null,
   "metadata": {
    "id": "_yPAdOaeZ__i"
   },
   "outputs": [],
   "source": [
    "plot_predictions1(model1, X_test1, y_test1)"
   ]
  },
  {
   "cell_type": "code",
   "execution_count": null,
   "metadata": {
    "id": "af4YMI36Z_lY"
   },
   "outputs": [],
   "source": [
    "#MODEL 2: 1D CNN \n",
    "model2 = Sequential()\n",
    "model2.add(InputLayer((5, 1)))\n",
    "model2.add(Conv1D(64, kernel_size=2))\n",
    "model2.add(Flatten())\n",
    "model2.add(Dense(8, 'relu'))\n",
    "model2.add(Dense(1, 'linear'))\n",
    "\n",
    "model2.summary()"
   ]
  },
  {
   "cell_type": "code",
   "execution_count": null,
   "metadata": {},
   "outputs": [],
   "source": [
    "cp2= ModelCheckpoint('model2/', save_best_only=True)\n",
    "model2.compile(loss=MeanSquaredError(), optimizer=Adam(learning_rate=0.0001), metrics=[RootMeanSquaredError()])\n",
    "model2.fit(X_train1, y_train1, validation_data=(X_val1, y_val1), epochs=10, callbacks=[cp2])"
   ]
  },
  {
   "cell_type": "code",
   "execution_count": null,
   "metadata": {},
   "outputs": [],
   "source": [
    "plot_predictions1(model2, X_test1, y_test1)"
   ]
  },
  {
   "cell_type": "code",
   "execution_count": null,
   "metadata": {},
   "outputs": [],
   "source": [
    "#MODEL 3 : GRU\n",
    "model3 = Sequential()\n",
    "model3.add(InputLayer((5, 1)))\n",
    "model3.add(GRU(64))\n",
    "model3.add(Dense(8, 'relu'))\n",
    "model3.add(Dense(1, 'linear'))\n",
    "model3.summary()"
   ]
  },
  {
   "cell_type": "code",
   "execution_count": null,
   "metadata": {},
   "outputs": [],
   "source": [
    "cp3 = ModelCheckpoint('model3/', save_best_only=True)\n",
    "model3.compile(loss=MeanSquaredError(), optimizer=Adam(learning_rate=0.0001), metrics=[RootMeanSquaredError()])\n",
    "plot_predictions1(model3, X_test1, y_test1)"
   ]
  },
  {
   "cell_type": "code",
   "execution_count": null,
   "metadata": {},
   "outputs": [],
   "source": [
    "#Creating precise timestamps\n",
    "temp_df = pd.DataFrame({'Sub_1':temp})\n",
    "temp_df['Seconds'] = temp_df.index.map(pd.Timestamp.timestamp)\n",
    "temp_df\n",
    "\n",
    "day = 60*60*24\n",
    "year = 365.2425*day\n",
    "\n",
    "temp_df['Day sin'] = np.sin(temp_df['Seconds'] * (2* np.pi / day))\n",
    "temp_df['Day cos'] = np.cos(temp_df['Seconds'] * (2 * np.pi / day))\n",
    "temp_df['Year sin'] = np.sin(temp_df['Seconds'] * (2 * np.pi / year))\n",
    "temp_df['Year cos'] = np.cos(temp_df['Seconds'] * (2 * np.pi / year))\n",
    "temp_df.head()"
   ]
  },
  {
   "cell_type": "code",
   "execution_count": null,
   "metadata": {},
   "outputs": [],
   "source": [
    "temp_df = temp_df.drop('Seconds', axis=1)\n",
    "temp_df.head()"
   ]
  },
  {
   "cell_type": "code",
   "execution_count": null,
   "metadata": {},
   "outputs": [],
   "source": [
    "def df_to_X_y2(df, window_size=6):\n",
    "  df_as_np = df.to_numpy()\n",
    "  X = []\n",
    "  y = []\n",
    "  for i in range(len(df_as_np)-window_size):\n",
    "    row = [r for r in df_as_np[i:i+window_size]]\n",
    "    X.append(row)\n",
    "    label = df_as_np[i+window_size][0]\n",
    "    y.append(label)\n",
    "  return np.array(X), np.array(y)"
   ]
  },
  {
   "cell_type": "code",
   "execution_count": null,
   "metadata": {},
   "outputs": [],
   "source": [
    "X2, y2 = df_to_X_y2(temp_df)\n",
    "X2.shape, y2.shape"
   ]
  },
  {
   "cell_type": "code",
   "execution_count": null,
   "metadata": {},
   "outputs": [],
   "source": [
    "X_train2, y_train2 = X2[:180000], y2[:180000]\n",
    "X_val2, y_val2 = X2[180000:220000], y2[180000:220000]\n",
    "X_test2, y_test2 = X2[220000:], y2[220000:]\n",
    "X_train2.shape, y_train2.shape, X_val2.shape, y_val2.shape, X_test2.shape, y_test2.shape"
   ]
  },
  {
   "cell_type": "code",
   "execution_count": null,
   "metadata": {},
   "outputs": [],
   "source": [
    "temp_training_mean = np.mean(X_train2[:, :, 0])\n",
    "temp_training_std = np.std(X_train2[:, :, 0])\n",
    "\n",
    "def preprocess(X):\n",
    "  X[:, :, 0] = (X[:, :, 0] - temp_training_mean) / temp_training_std\n",
    "  return X"
   ]
  },
  {
   "cell_type": "code",
   "execution_count": null,
   "metadata": {},
   "outputs": [],
   "source": [
    "preprocess(X_train2)\n",
    "preprocess(X_val2)\n",
    "preprocess(X_test2)"
   ]
  },
  {
   "cell_type": "code",
   "execution_count": null,
   "metadata": {},
   "outputs": [],
   "source": [
    "#MODEL 4: LSTM with standardisation \n",
    "model4 = Sequential()\n",
    "model4.add(InputLayer((6, 5)))\n",
    "model4.add(LSTM(64))\n",
    "model4.add(Dense(8, 'relu'))\n",
    "model4.add(Dense(1, 'linear'))\n",
    "\n",
    "model4.summary()"
   ]
  },
  {
   "cell_type": "code",
   "execution_count": null,
   "metadata": {},
   "outputs": [],
   "source": [
    "cp4 = ModelCheckpoint('model4/', save_best_only=True)\n",
    "model4.compile(loss=MeanSquaredError(), optimizer=Adam(learning_rate=0.0001), metrics=[RootMeanSquaredError()])\n",
    "model4.fit(X_train2, y_train2, validation_data=(X_val2, y_val2), epochs=10, callbacks=[cp4])"
   ]
  },
  {
   "cell_type": "code",
   "execution_count": null,
   "metadata": {},
   "outputs": [],
   "source": [
    "plot_predictions1(model4, X_test2, y_test2)"
   ]
  }
 ],
 "metadata": {
  "colab": {
   "collapsed_sections": [
    "YwD6pYEvZMwO",
    "k4m8rgDmZANo",
    "ClV90l8aZWq3",
    "XCF2yNrqZiC_",
    "KHNF2mpJZmXj",
    "ygRmD759Zxab"
   ],
   "provenance": []
  },
  "kernelspec": {
   "display_name": "Python 3 (ipykernel)",
   "language": "python",
   "name": "python3"
  },
  "language_info": {
   "codemirror_mode": {
    "name": "ipython",
    "version": 3
   },
   "file_extension": ".py",
   "mimetype": "text/x-python",
   "name": "python",
   "nbconvert_exporter": "python",
   "pygments_lexer": "ipython3",
   "version": "3.11.7"
  }
 },
 "nbformat": 4,
 "nbformat_minor": 4
}
